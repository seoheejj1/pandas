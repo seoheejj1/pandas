{
  "nbformat": 4,
  "nbformat_minor": 0,
  "metadata": {
    "colab": {
      "name": "bigdata2.ipynb",
      "provenance": [],
      "authorship_tag": "ABX9TyPcL4XgXBBRbyZGcLNn+8Mo",
      "include_colab_link": true
    },
    "kernelspec": {
      "name": "python3",
      "display_name": "Python 3"
    },
    "language_info": {
      "name": "python"
    }
  },
  "cells": [
    {
      "cell_type": "markdown",
      "metadata": {
        "id": "view-in-github",
        "colab_type": "text"
      },
      "source": [
        "<a href=\"https://colab.research.google.com/github/seoheejj1/pandas/blob/main/bigdata2.ipynb\" target=\"_parent\"><img src=\"https://colab.research.google.com/assets/colab-badge.svg\" alt=\"Open In Colab\"/></a>"
      ]
    },
    {
      "cell_type": "code",
      "metadata": {
        "id": "wTs8snB96O2f"
      },
      "source": [
        "#파이썬 주요 자료구조: List Tuple Dict Set \n",
        "\n",
        "#List - mutable, 수정과 삭제가 가능하다. 인덱싱, 슬라이싱 가능. []\n",
        "#       하나의 리스트에 숫자형,문자형,튜플,딕...섞어서 저장이 가능.하지만 장점은 아님,에러날 확률이 높다.\n",
        "튜플 -                 x                       o ()\n",
        "딕셔너리-              o                       x {}\n",
        "셋-                    o                       x  (중복허용하지 않는다.)"
      ],
      "execution_count": null,
      "outputs": []
    },
    {
      "cell_type": "code",
      "metadata": {
        "colab": {
          "base_uri": "https://localhost:8080/"
        },
        "id": "9gNWuwyU862a",
        "outputId": "f6f61a31-acc7-4b4a-97f2-07339c66c9f7"
      },
      "source": [
        "od=[1,2,3,4,5]\n",
        "od"
      ],
      "execution_count": 1,
      "outputs": [
        {
          "output_type": "execute_result",
          "data": {
            "text/plain": [
              "[1, 2, 3, 4, 5]"
            ]
          },
          "metadata": {},
          "execution_count": 1
        }
      ]
    },
    {
      "cell_type": "code",
      "metadata": {
        "id": "lvf9D0UT-pUT"
      },
      "source": [
        "c=['a','b','c']"
      ],
      "execution_count": null,
      "outputs": []
    },
    {
      "cell_type": "code",
      "metadata": {
        "id": "kXAgFBG6-pwP"
      },
      "source": [
        "d=[1,2,['a','b']]\n",
        "e=[1,2,'a','b']"
      ],
      "execution_count": null,
      "outputs": []
    },
    {
      "cell_type": "code",
      "metadata": {
        "colab": {
          "base_uri": "https://localhost:8080/"
        },
        "id": "CnFOw3Ok-8L3",
        "outputId": "2490301f-2fee-4fbe-e2aa-d754dcfb0cdf"
      },
      "source": [
        "#인덱싱-몇번째 요소 추출\n",
        "a=[1,2,3]\n",
        "a[0]\n",
        "a[0]+a[2]\n",
        "a[-1]"
      ],
      "execution_count": 4,
      "outputs": [
        {
          "output_type": "execute_result",
          "data": {
            "text/plain": [
              "3"
            ]
          },
          "metadata": {},
          "execution_count": 4
        }
      ]
    },
    {
      "cell_type": "code",
      "metadata": {
        "colab": {
          "base_uri": "https://localhost:8080/"
        },
        "id": "nt0a7H3a_JF5",
        "outputId": "193bf440-8c8f-40ea-928a-c27acb725e84"
      },
      "source": [
        "#리스트 슬라이싱-여러개 추출\n",
        "a=[1,2,3,4,5]\n",
        "a[0:2]"
      ],
      "execution_count": 5,
      "outputs": [
        {
          "output_type": "execute_result",
          "data": {
            "text/plain": [
              "[1, 2]"
            ]
          },
          "metadata": {},
          "execution_count": 5
        }
      ]
    },
    {
      "cell_type": "code",
      "metadata": {
        "colab": {
          "base_uri": "https://localhost:8080/"
        },
        "id": "PcrX6jQmDFvY",
        "outputId": "d468b960-5117-49a7-ca1c-12521ea62cc3"
      },
      "source": [
        "b=a[:2]\n",
        "b"
      ],
      "execution_count": 8,
      "outputs": [
        {
          "output_type": "execute_result",
          "data": {
            "text/plain": [
              "[1, 2]"
            ]
          },
          "metadata": {},
          "execution_count": 8
        }
      ]
    },
    {
      "cell_type": "code",
      "metadata": {
        "colab": {
          "base_uri": "https://localhost:8080/"
        },
        "id": "ggpGBIUGDK0r",
        "outputId": "122c1d3e-0a34-4dbb-beb3-2a6d8d9681bc"
      },
      "source": [
        "c=a[2:]\n",
        "c"
      ],
      "execution_count": 9,
      "outputs": [
        {
          "output_type": "execute_result",
          "data": {
            "text/plain": [
              "[3, 4, 5]"
            ]
          },
          "metadata": {},
          "execution_count": 9
        }
      ]
    },
    {
      "cell_type": "code",
      "metadata": {
        "colab": {
          "base_uri": "https://localhost:8080/"
        },
        "id": "v5IFkwdfDNUy",
        "outputId": "ea643704-bf8f-4393-ab0d-bf880772b561"
      },
      "source": [
        "len(a)"
      ],
      "execution_count": 10,
      "outputs": [
        {
          "output_type": "execute_result",
          "data": {
            "text/plain": [
              "5"
            ]
          },
          "metadata": {},
          "execution_count": 10
        }
      ]
    },
    {
      "cell_type": "code",
      "metadata": {
        "colab": {
          "base_uri": "https://localhost:8080/"
        },
        "id": "uBLXslnjDbu6",
        "outputId": "931211ca-3a20-43f7-a451-0dfcd8308a90"
      },
      "source": [
        "#리스트의 수정과 삭제\n",
        "a=[1,2,3]\n",
        "a[2]=4\n",
        "a"
      ],
      "execution_count": 11,
      "outputs": [
        {
          "output_type": "execute_result",
          "data": {
            "text/plain": [
              "[1, 2, 4]"
            ]
          },
          "metadata": {},
          "execution_count": 11
        }
      ]
    },
    {
      "cell_type": "code",
      "metadata": {
        "colab": {
          "base_uri": "https://localhost:8080/"
        },
        "id": "TWlxI8JtD8zJ",
        "outputId": "e290a6d9-4c17-4df7-dd63-6bf485e89f67"
      },
      "source": [
        "del a[2:]\n",
        "a"
      ],
      "execution_count": 13,
      "outputs": [
        {
          "output_type": "execute_result",
          "data": {
            "text/plain": [
              "[1, 2]"
            ]
          },
          "metadata": {},
          "execution_count": 13
        }
      ]
    },
    {
      "cell_type": "code",
      "metadata": {
        "colab": {
          "base_uri": "https://localhost:8080/"
        },
        "id": "QQzgZ6eiEChF",
        "outputId": "ae6022e2-77ca-43dc-960f-f9161d4232bf"
      },
      "source": [
        "del a[1]\n",
        "a"
      ],
      "execution_count": 14,
      "outputs": [
        {
          "output_type": "execute_result",
          "data": {
            "text/plain": [
              "[1]"
            ]
          },
          "metadata": {},
          "execution_count": 14
        }
      ]
    },
    {
      "cell_type": "code",
      "metadata": {
        "colab": {
          "base_uri": "https://localhost:8080/"
        },
        "id": "PrH0VV0LEI77",
        "outputId": "d85bf71a-7474-423e-e04b-af2a341292a4"
      },
      "source": [
        "#리스트 관련 함수들 정리\n",
        "#append -리스트에 요소 추가(제일 많이 사용하는 함수)\n",
        "\n",
        "a=[1,2,3]\n",
        "a.append(4)\n",
        "a"
      ],
      "execution_count": 15,
      "outputs": [
        {
          "output_type": "execute_result",
          "data": {
            "text/plain": [
              "[1, 2, 3, 4]"
            ]
          },
          "metadata": {},
          "execution_count": 15
        }
      ]
    },
    {
      "cell_type": "code",
      "metadata": {
        "colab": {
          "base_uri": "https://localhost:8080/"
        },
        "id": "Rn5gka-GEV3A",
        "outputId": "e2d794f8-ad35-4211-dfd0-e4d95a89cdea"
      },
      "source": [
        "#pop마지막 요소를 끄집어내기\n",
        "a.pop()\n"
      ],
      "execution_count": 16,
      "outputs": [
        {
          "output_type": "execute_result",
          "data": {
            "text/plain": [
              "4"
            ]
          },
          "metadata": {},
          "execution_count": 16
        }
      ]
    },
    {
      "cell_type": "code",
      "metadata": {
        "colab": {
          "base_uri": "https://localhost:8080/"
        },
        "id": "1bMnF53fEsQV",
        "outputId": "4e92b9a8-3d02-436e-b2c8-1da3d17bd89d"
      },
      "source": [
        "a"
      ],
      "execution_count": 17,
      "outputs": [
        {
          "output_type": "execute_result",
          "data": {
            "text/plain": [
              "[1, 2, 3]"
            ]
          },
          "metadata": {},
          "execution_count": 17
        }
      ]
    },
    {
      "cell_type": "code",
      "metadata": {
        "colab": {
          "base_uri": "https://localhost:8080/"
        },
        "id": "6tjQoysmEthz",
        "outputId": "fb18a5c4-a88d-46d3-9fd5-255f9d83ccf2"
      },
      "source": [
        "a.pop()"
      ],
      "execution_count": 18,
      "outputs": [
        {
          "output_type": "execute_result",
          "data": {
            "text/plain": [
              "3"
            ]
          },
          "metadata": {},
          "execution_count": 18
        }
      ]
    },
    {
      "cell_type": "code",
      "metadata": {
        "colab": {
          "base_uri": "https://localhost:8080/"
        },
        "id": "Ap7AEZJcEvYz",
        "outputId": "c09fba6e-d5b6-4c4a-ad4e-3aede0ea2354"
      },
      "source": [
        "a"
      ],
      "execution_count": 19,
      "outputs": [
        {
          "output_type": "execute_result",
          "data": {
            "text/plain": [
              "[1, 2]"
            ]
          },
          "metadata": {},
          "execution_count": 19
        }
      ]
    },
    {
      "cell_type": "code",
      "metadata": {
        "colab": {
          "base_uri": "https://localhost:8080/"
        },
        "id": "Ims6oSngEwBq",
        "outputId": "d3039bbe-089b-496d-a168-541c62277b23"
      },
      "source": [
        "a.pop(0)"
      ],
      "execution_count": 20,
      "outputs": [
        {
          "output_type": "execute_result",
          "data": {
            "text/plain": [
              "1"
            ]
          },
          "metadata": {},
          "execution_count": 20
        }
      ]
    },
    {
      "cell_type": "code",
      "metadata": {
        "colab": {
          "base_uri": "https://localhost:8080/"
        },
        "id": "B0a08govEyT9",
        "outputId": "fb646968-2047-4ace-b5de-df3052a8c644"
      },
      "source": [
        "#Tuple-immutable\n",
        "#하나의 튜플에 숫자형,문자형,튜플,딕...섞어서 저장이 가능하다.\n",
        "#하나만 튜플로 만들때는 쉼표를 넣어준다(2,)\n",
        "t1=()\n",
        "t2=1,2,3\n",
        "t3=(1,2,3)\n",
        "t4=('a','b',1,2,3)\n",
        "\n",
        "t6=(2,)\n",
        "t6"
      ],
      "execution_count": 21,
      "outputs": [
        {
          "output_type": "execute_result",
          "data": {
            "text/plain": [
              "(2,)"
            ]
          },
          "metadata": {},
          "execution_count": 21
        }
      ]
    },
    {
      "cell_type": "code",
      "metadata": {
        "colab": {
          "base_uri": "https://localhost:8080/",
          "height": 190
        },
        "id": "VURnpXCNF--v",
        "outputId": "87826a23-8185-4ac9-9259-7fc283e915fe"
      },
      "source": [
        "t1=(1,2,3,4)\n",
        "del t1[0]"
      ],
      "execution_count": 23,
      "outputs": [
        {
          "output_type": "error",
          "ename": "TypeError",
          "evalue": "ignored",
          "traceback": [
            "\u001b[0;31m---------------------------------------------------------------------------\u001b[0m",
            "\u001b[0;31mTypeError\u001b[0m                                 Traceback (most recent call last)",
            "\u001b[0;32m<ipython-input-23-8a9d025bf22a>\u001b[0m in \u001b[0;36m<module>\u001b[0;34m()\u001b[0m\n\u001b[1;32m      1\u001b[0m \u001b[0mt1\u001b[0m\u001b[0;34m=\u001b[0m\u001b[0;34m(\u001b[0m\u001b[0;36m1\u001b[0m\u001b[0;34m,\u001b[0m\u001b[0;36m2\u001b[0m\u001b[0;34m,\u001b[0m\u001b[0;36m3\u001b[0m\u001b[0;34m,\u001b[0m\u001b[0;36m4\u001b[0m\u001b[0;34m)\u001b[0m\u001b[0;34m\u001b[0m\u001b[0;34m\u001b[0m\u001b[0m\n\u001b[0;32m----> 2\u001b[0;31m \u001b[0;32mdel\u001b[0m \u001b[0mt1\u001b[0m\u001b[0;34m[\u001b[0m\u001b[0;36m0\u001b[0m\u001b[0;34m]\u001b[0m\u001b[0;34m\u001b[0m\u001b[0;34m\u001b[0m\u001b[0m\n\u001b[0m",
            "\u001b[0;31mTypeError\u001b[0m: 'tuple' object doesn't support item deletion"
          ]
        }
      ]
    },
    {
      "cell_type": "code",
      "metadata": {
        "colab": {
          "base_uri": "https://localhost:8080/"
        },
        "id": "uiRUotCSGdmJ",
        "outputId": "461ab11f-0d3f-4c9e-927a-1652ce7a854f"
      },
      "source": [
        "#튜플인덱싱\n",
        "t1[0]\n",
        "#튜플 슬라이싱\n",
        "t4[1:]"
      ],
      "execution_count": 25,
      "outputs": [
        {
          "output_type": "execute_result",
          "data": {
            "text/plain": [
              "('b', 1, 2, 3)"
            ]
          },
          "metadata": {},
          "execution_count": 25
        }
      ]
    },
    {
      "cell_type": "code",
      "metadata": {
        "colab": {
          "base_uri": "https://localhost:8080/"
        },
        "id": "vmXpJ34IHSpE",
        "outputId": "b1d4538b-9307-4f24-a991-844416b66ca5"
      },
      "source": [
        "len(t6)"
      ],
      "execution_count": 27,
      "outputs": [
        {
          "output_type": "execute_result",
          "data": {
            "text/plain": [
              "1"
            ]
          },
          "metadata": {},
          "execution_count": 27
        }
      ]
    },
    {
      "cell_type": "code",
      "metadata": {
        "colab": {
          "base_uri": "https://localhost:8080/"
        },
        "id": "y2N2iEsLHgj9",
        "outputId": "8ce432d0-6bd7-470b-d62e-acdf89d67a31"
      },
      "source": [
        "#딕셔너리-이름:이몽룡,나이:16,...키:벨류 형태\n",
        "# 딕셔너리의 다른이름 판다스:시리즈,자바:맵,파이썬:딕셔너리\n",
        "#인덱싱과 슬라이싱 불가능/mutable\n",
        "\n",
        "dic={'이름':'이몽룡','나이':16,'여친':'성춘향'}\n",
        "dic['과거시험']='합격'\n",
        "dic  #순서가 없다"
      ],
      "execution_count": 28,
      "outputs": [
        {
          "output_type": "execute_result",
          "data": {
            "text/plain": [
              "{'과거시험': '합격', '나이': 16, '여친': '성춘향', '이름': '이몽룡'}"
            ]
          },
          "metadata": {},
          "execution_count": 28
        }
      ]
    },
    {
      "cell_type": "code",
      "metadata": {
        "colab": {
          "base_uri": "https://localhost:8080/"
        },
        "id": "3RjXK4t5JSvV",
        "outputId": "a81bd30e-f02d-4f0d-cb92-31118da6f5dd"
      },
      "source": [
        "del dic[\"여친\"]\n",
        "dic"
      ],
      "execution_count": 29,
      "outputs": [
        {
          "output_type": "execute_result",
          "data": {
            "text/plain": [
              "{'과거시험': '합격', '나이': 16, '이름': '이몽룡'}"
            ]
          },
          "metadata": {},
          "execution_count": 29
        }
      ]
    },
    {
      "cell_type": "code",
      "metadata": {
        "colab": {
          "base_uri": "https://localhost:8080/"
        },
        "id": "RYM9AmD3JgOK",
        "outputId": "4402d761-dfc7-4912-fd2f-18ef093cdfbd"
      },
      "source": [
        "#리스트나 튜플은 요소값을 얻어낼때 인덱싱이나 슬라이싱을 사용한다.\n",
        "#그러나 딕셔너리는 인덱싱과 슬라이싱이 순서가 없기 때문에 불가능하다.\n",
        "#키값으로 벨류값을 얻어내는 방법만 사용한다.\n",
        "\n",
        "dic.keys()"
      ],
      "execution_count": 30,
      "outputs": [
        {
          "output_type": "execute_result",
          "data": {
            "text/plain": [
              "dict_keys(['이름', '나이', '과거시험'])"
            ]
          },
          "metadata": {},
          "execution_count": 30
        }
      ]
    },
    {
      "cell_type": "code",
      "metadata": {
        "colab": {
          "base_uri": "https://localhost:8080/"
        },
        "id": "dLlbo_LSKTog",
        "outputId": "e4ff1bbb-e785-45fe-87ad-5119d0289b98"
      },
      "source": [
        "list(dic.keys())"
      ],
      "execution_count": 32,
      "outputs": [
        {
          "output_type": "execute_result",
          "data": {
            "text/plain": [
              "['이름', '나이', '과거시험']"
            ]
          },
          "metadata": {},
          "execution_count": 32
        }
      ]
    },
    {
      "cell_type": "code",
      "metadata": {
        "colab": {
          "base_uri": "https://localhost:8080/"
        },
        "id": "8IljVtY-KX6x",
        "outputId": "84807458-3c4a-437d-ecdc-1cbaea9c64ed"
      },
      "source": [
        "dic.values()"
      ],
      "execution_count": 34,
      "outputs": [
        {
          "output_type": "execute_result",
          "data": {
            "text/plain": [
              "dict_values(['이몽룡', 16, '합격'])"
            ]
          },
          "metadata": {},
          "execution_count": 34
        }
      ]
    },
    {
      "cell_type": "code",
      "metadata": {
        "colab": {
          "base_uri": "https://localhost:8080/"
        },
        "id": "1vQBryT-KdM4",
        "outputId": "8cf097fb-d0a4-412e-bdc6-aad52356e8ea"
      },
      "source": [
        "list(dic.values())"
      ],
      "execution_count": 35,
      "outputs": [
        {
          "output_type": "execute_result",
          "data": {
            "text/plain": [
              "['이몽룡', 16, '합격']"
            ]
          },
          "metadata": {},
          "execution_count": 35
        }
      ]
    },
    {
      "cell_type": "code",
      "metadata": {
        "colab": {
          "base_uri": "https://localhost:8080/"
        },
        "id": "aCe52esdKhag",
        "outputId": "85dc5fee-fcc9-48c3-f1f7-931314c4632c"
      },
      "source": [
        "dic.items()  #튜플형태로 키값과 벨류값"
      ],
      "execution_count": 37,
      "outputs": [
        {
          "output_type": "execute_result",
          "data": {
            "text/plain": [
              "dict_items([('이름', '이몽룡'), ('나이', 16), ('과거시험', '합격')])"
            ]
          },
          "metadata": {},
          "execution_count": 37
        }
      ]
    },
    {
      "cell_type": "code",
      "metadata": {
        "colab": {
          "base_uri": "https://localhost:8080/"
        },
        "id": "yt6bt6QtKltj",
        "outputId": "e1ed2c7d-bde8-4dea-850e-f80ffb408531"
      },
      "source": [
        "'이름' in dic"
      ],
      "execution_count": 38,
      "outputs": [
        {
          "output_type": "execute_result",
          "data": {
            "text/plain": [
              "True"
            ]
          },
          "metadata": {},
          "execution_count": 38
        }
      ]
    },
    {
      "cell_type": "code",
      "metadata": {
        "colab": {
          "base_uri": "https://localhost:8080/"
        },
        "id": "AmBbSn_wLEfP",
        "outputId": "12f83c92-254b-427c-cf44-d27a7e061be7"
      },
      "source": [
        "# set 집합-중복을 허용하지 않는다.순서가 없다.중복을 허용하지 않는다.(거의 사용하지 않는다.)\n",
        "s1=set('HELLO')\n",
        "s1"
      ],
      "execution_count": 39,
      "outputs": [
        {
          "output_type": "execute_result",
          "data": {
            "text/plain": [
              "{'E', 'H', 'L', 'O'}"
            ]
          },
          "metadata": {},
          "execution_count": 39
        }
      ]
    },
    {
      "cell_type": "code",
      "metadata": {
        "colab": {
          "base_uri": "https://localhost:8080/"
        },
        "id": "DgyeYd3UL18V",
        "outputId": "a2c8a45e-d149-4415-a661-556e5a5e8242"
      },
      "source": [
        "s1=set([1,2,3])\n",
        "s1.add(4)\n",
        "s1"
      ],
      "execution_count": 40,
      "outputs": [
        {
          "output_type": "execute_result",
          "data": {
            "text/plain": [
              "{1, 2, 3, 4}"
            ]
          },
          "metadata": {},
          "execution_count": 40
        }
      ]
    },
    {
      "cell_type": "code",
      "metadata": {
        "colab": {
          "base_uri": "https://localhost:8080/"
        },
        "id": "JwRZjrIZMXS-",
        "outputId": "6634ee34-878f-4e65-89d7-9898de73c673"
      },
      "source": [
        "s1.remove(2)\n",
        "s1"
      ],
      "execution_count": 41,
      "outputs": [
        {
          "output_type": "execute_result",
          "data": {
            "text/plain": [
              "{1, 3, 4}"
            ]
          },
          "metadata": {},
          "execution_count": 41
        }
      ]
    },
    {
      "cell_type": "code",
      "metadata": {
        "id": "x2rmqCGuMarz"
      },
      "source": [
        "import pandas as pd\n",
        "\n",
        "#시리즈,데이터 프레임(더 많이 사용)\n",
        "#시리즈 키값과 벨류값형태로 파이썬 딕셔너리와 유사\n",
        "\n",
        "dict_data={'a':1,'b':2,'c':3}\n",
        "\n",
        "sr=pd.Series(dict_data)"
      ],
      "execution_count": 43,
      "outputs": []
    },
    {
      "cell_type": "code",
      "metadata": {
        "colab": {
          "base_uri": "https://localhost:8080/"
        },
        "id": "DC6qmwETRzz_",
        "outputId": "51ffb458-49c4-43b8-c2eb-a8cbeeddc275"
      },
      "source": [
        "sr"
      ],
      "execution_count": 44,
      "outputs": [
        {
          "output_type": "execute_result",
          "data": {
            "text/plain": [
              "a    1\n",
              "b    2\n",
              "c    3\n",
              "dtype: int64"
            ]
          },
          "metadata": {},
          "execution_count": 44
        }
      ]
    },
    {
      "cell_type": "code",
      "metadata": {
        "colab": {
          "base_uri": "https://localhost:8080/"
        },
        "id": "a60982RrR3sJ",
        "outputId": "4fe0038e-e33c-474f-dd67-e2cc19d916e4"
      },
      "source": [
        "type(sr)"
      ],
      "execution_count": 45,
      "outputs": [
        {
          "output_type": "execute_result",
          "data": {
            "text/plain": [
              "pandas.core.series.Series"
            ]
          },
          "metadata": {},
          "execution_count": 45
        }
      ]
    },
    {
      "cell_type": "code",
      "metadata": {
        "colab": {
          "base_uri": "https://localhost:8080/"
        },
        "id": "SSzcfwG-R6tv",
        "outputId": "d6dddf1b-0547-4b14-b260-53f3269f36a6"
      },
      "source": [
        "type(dict_data)"
      ],
      "execution_count": 46,
      "outputs": [
        {
          "output_type": "execute_result",
          "data": {
            "text/plain": [
              "dict"
            ]
          },
          "metadata": {},
          "execution_count": 46
        }
      ]
    },
    {
      "cell_type": "code",
      "metadata": {
        "colab": {
          "base_uri": "https://localhost:8080/"
        },
        "id": "UfoXhu_tR902",
        "outputId": "7f0cfecb-189c-4fd7-f851-fd1edca61570"
      },
      "source": [
        "list_data=['2021-12-4',3.14,'abc',True]\n",
        "sr=pd.Series(list_data)\n",
        "sr  #시리즈의 인덱스 배열과 데이터 값 배열을 인덱스는 0~4범위의 정수로 인덱스\n",
        "#데이터 값이 벨류 값으로 나열되어 시리즈를 생성한다.#딕셔너리는 키:벨류 형태여서 그대로지만 리스트는 키값이 없기 때문에 인덱스로 자동 생성되어 시리즈 형태로..\n",
        "print(sr.index)"
      ],
      "execution_count": 49,
      "outputs": [
        {
          "output_type": "stream",
          "name": "stdout",
          "text": [
            "RangeIndex(start=0, stop=4, step=1)\n"
          ]
        }
      ]
    },
    {
      "cell_type": "code",
      "metadata": {
        "colab": {
          "base_uri": "https://localhost:8080/"
        },
        "id": "FHVm-kLBSq-D",
        "outputId": "77753b30-2ffd-430f-8730-902ff28bc893"
      },
      "source": [
        "print(sr.values)"
      ],
      "execution_count": 51,
      "outputs": [
        {
          "output_type": "stream",
          "name": "stdout",
          "text": [
            "['2021-12-4' 3.14 'abc' True]\n"
          ]
        }
      ]
    },
    {
      "cell_type": "code",
      "metadata": {
        "id": "IoyMRt1mTWqc"
      },
      "source": [
        ""
      ],
      "execution_count": null,
      "outputs": []
    }
  ]
}